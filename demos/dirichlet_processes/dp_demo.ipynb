{
 "cells": [
  {
   "cell_type": "markdown",
   "metadata": {},
   "source": [
    "# Dirichlet process demo\n",
    "\n",
    "In this notebook we demonstrate the Dirchlet process, using the stick breaking construction. First we sample from the prior distribution $\\pi = DP(\\alpha, F_0)$, then we sample from the posterior distribution $p(F \\,|, x)$ given a data set $x_1,\\ldots, x_n$ that is drawn from a distribution that is different from the base distribution $F_0$."
   ]
  },
  {
   "cell_type": "code",
   "execution_count": 1,
   "metadata": {},
   "outputs": [],
   "source": [
    "import numpy as np\n",
    "import pandas as pd\n",
    "from scipy.stats import norm\n",
    "from IPython.display import clear_output\n",
    "from time import sleep\n",
    "import matplotlib.pyplot as plt\n",
    "%matplotlib inline"
   ]
  },
  {
   "cell_type": "markdown",
   "metadata": {},
   "source": [
    "Below we define three \"helper\" functions.\n",
    "\n",
    "Given a parameter $\\alpha$, the `stick_break` function returns a set of weights $w_1, w_2, \\ldots, w_N$ given by\n",
    "\n",
    "$$ w_i = \n",
    "\\begin{cases} V_0 & \\text{if $i=0$} \\\\\n",
    "V_i (1-V_{i-1}) \\cdots (1-V_{0}) & \\text{if $i > 0$}\n",
    "\\end{cases} $$\n",
    "\n",
    "where the random variables $V_0, V_1, \\ldots, V_N$ are independent draws from a Beta$(1,\\alpha)$ distribution. This gives a set of weights that sums to one (if $N$ is large)."
   ]
  },
  {
   "cell_type": "code",
   "execution_count": 2,
   "metadata": {},
   "outputs": [],
   "source": [
    "def stick_break(alpha, N):\n",
    "    V = np.random.beta(1, alpha, size=N)\n",
    "    w = np.zeros(N)\n",
    "    w[0] = V[0]\n",
    "    d = 1\n",
    "    for i in np.arange(1, N):\n",
    "        d = d*(1-V[i-1])\n",
    "        w[i] = V[i]*d\n",
    "    return w/np.sum(w)"
   ]
  },
  {
   "cell_type": "markdown",
   "metadata": {},
   "source": [
    "The next function, `sample_dirichlet_process(alpha, mu, sigma)` uses the stick breaking construction to draw a distribution $F$ from the prior $DP(\\alpha, N(\\mu, \\sigma^2))$. To do this, we do two things:\n",
    "\n",
    "1. Generate stick breaking weights $w_1, w_2, \\ldots w_N$\n",
    "2. Independently sample $s_1, s_2, \\ldots, s_N$ from a $N(\\mu,\\sigma^2)$ distribution\n",
    "\n",
    "After sorting the $s$ values, the resulting $F$ is then just a step function where \n",
    "there is a step of size $w_i$ at each value $s_i$.\n"
   ]
  },
  {
   "cell_type": "code",
   "execution_count": 3,
   "metadata": {},
   "outputs": [],
   "source": [
    "def sample_dirichlet_process(alpha, mu, sigma):\n",
    "    N = 1000\n",
    "    s = np.random.normal(loc=mu, scale=sigma, size=N)\n",
    "    w = stick_break(alpha, N)\n",
    "    ind = np.argsort(s)\n",
    "    s = s[ind]\n",
    "    w = w[ind]\n",
    "    return s, w"
   ]
  },
  {
   "cell_type": "markdown",
   "metadata": {},
   "source": [
    "Our third function is `sample_dirichlet_process_posterior(x, alpha, mu, sigma)`, which \n",
    "samples from the posterior distribution $p(F \\, |\\, x_1, \\ldots, x_n)$ when the prior distribution \n",
    "on $F$ is a Dirichlet process $DP(\\alpha, N(\\mu, \\sigma^2))$. The sampling procedure \n",
    "is almost the same as for the prior, with a slight twist:\n",
    "\n",
    "1. Generate stick breaking weights $w_1, w_2, \\ldots w_N$ using the parameter $\\tilde \\alpha = \\alpha + n$.\n",
    "\n",
    "2. Independently sample $s_1, s_2, \\ldots, s_N$ according to a mixture:\n",
    "* With probability $\\frac{\\alpha}{\\alpha + n}$, draw a sample from $F_0 = N(\\mu,\\sigma^2)$\n",
    "* With probability $1 - \\frac{\\alpha}{\\alpha + n}$, draw a sample from $\\{x_1,\\ldots, x_n\\}$ (with replacement)."
   ]
  },
  {
   "cell_type": "code",
   "execution_count": 4,
   "metadata": {},
   "outputs": [],
   "source": [
    "def sample_dirichlet_process_posterior(x, alpha, mu, sigma):\n",
    "    N = 1000\n",
    "    n = len(x)\n",
    "    s0 = np.random.normal(loc=mu, scale=sigma, size=N)\n",
    "    s1 = np.random.choice(x, size=N, replace=True)\n",
    "    w = stick_break(alpha+n, N)\n",
    "    b = np.random.binomial(1, p=alpha/(alpha+n), size=N)\n",
    "    s = b*s0 + (1-b)*s1\n",
    "    ind = np.argsort(s)\n",
    "    s = s[ind]\n",
    "    w = w[ind]\n",
    "    return s, w"
   ]
  },
  {
   "cell_type": "markdown",
   "metadata": {},
   "source": [
    "Now we demonstrate the Dirichlet process by sampling from the prior $DP(\\alpha, N(\\mu, \\sigma^2))$ for different values of $\\alpha$, $\\mu$, and $\\sigma^2$. Notice a few things as you watch the \"movies\":\n",
    "\n",
    "* As $\\alpha$ decreases, the stick is broken into fewer and fewer big pieces. Can you understand why?\n",
    "\n",
    "* The sampled distribution $F$ is always a step function. Do you see why this is, from the code?\n",
    "\n",
    "* For fixed $\\alpha$, notice that the draws $F_i$ are centered around the CDF for the base distribution $N(\\mu,\\sigma^2)$, which we plot for reference. That is, if we were to run the movie for many frames $M$, and average the step functions to compute \n",
    "$\\hat F(x) = \\frac{1}{M} \\sum_{i=1}^M F_i(x)$, it would line up very closely with the normal CDF shown. On assignment 2, you will prove that this is the case. \n"
   ]
  },
  {
   "cell_type": "code",
   "execution_count": 5,
   "metadata": {
    "scrolled": true
   },
   "outputs": [
    {
     "data": {
      "image/png": "[encoded data removed]",
      "text/plain": [
       "<Figure size 1080x360 with 2 Axes>"
      ]
     },
     "metadata": {
      "needs_background": "light"
     },
     "output_type": "display_data"
    }
   ],
   "source": [
    "mu = 0\n",
    "sigma = np.sqrt(1)\n",
    "\n",
    "xmin, xmax = norm.ppf([.001, 1-.001], loc=mu, scale=sigma)\n",
    "x = np.linspace(xmin, xmax, 200)\n",
    "\n",
    "for alpha in np.flip([.5, 5, 10, 50, 100]):\n",
    "    for trials in np.arange(10):\n",
    "        s, w = sample_dirichlet_process(alpha, mu, sigma)\n",
    "        F = np.cumsum(w)\n",
    "\n",
    "        # Plot the result\n",
    "        clear_output(wait=True)\n",
    "        fig, ax = plt.subplots(1, 2, figsize=(15, 5))\n",
    "        ax[0].vlines(s, ymin=0, ymax=w, color='gray')\n",
    "        ax[0].set_xlim(xmin, xmax)\n",
    "        ax[0].set_title(r'Stick breaking weights $\\alpha$=%.1f' % alpha, fontsize=14)\n",
    "        ax[1].plot(x, norm.cdf(x, loc=mu, scale=sigma), 'r', linewidth=3, alpha=.5, \n",
    "                   label=r'CDF of $F_0$')\n",
    "        ax[1].step(s, F, label='sampled F')\n",
    "        ax[1].set_xlim(xmin, xmax)\n",
    "        ax[1].set_ylabel('P(X <= x)', fontsize=14)\n",
    "        ax[1].set_title(r'Sampled F, $\\alpha$=%.1f' % alpha, fontsize=14)\n",
    "        ax[1].legend()\n",
    "        plt.show()\n",
    "        sleep(.95)"
   ]
  },
  {
   "cell_type": "markdown",
   "metadata": {},
   "source": [
    "Next, we sample from the posterior Dirichlet process, for a range of values \n",
    "of $\\alpha$. Our data set is a small number of samples from a $N(5,3)$ distribution,. Note that the base distribution $F_0$, which is $N(0,1)$, is very different from the true distribution $N(5,3)$. So, for large $\\alpha$ the posterior is very far from the true model; for small $\\alpha$ the posterior becomes closer to the empirical distribution of the data."
   ]
  },
  {
   "cell_type": "code",
   "execution_count": 9,
   "metadata": {
    "scrolled": false
   },
   "outputs": [
    {
     "data": {
      "image/png": "[encoded data removed]",
      "text/plain": [
       "<Figure size 720x432 with 1 Axes>"
      ]
     },
     "metadata": {
      "needs_background": "light"
     },
     "output_type": "display_data"
    }
   ],
   "source": [
    "n = 15\n",
    "mu = 5\n",
    "sigma = np.sqrt(3)\n",
    "eps = (1/(2*n))*np.log(2/.05) # width of frequentist interval\n",
    "\n",
    "mu0 = 0\n",
    "sigma0 = np.sqrt(1)\n",
    "\n",
    "x = np.random.normal(loc=mu, scale=sigma, size=n)\n",
    "\n",
    "xmin, xmax = norm.ppf([.001, 1-.001], loc=mu, scale=sigma)\n",
    "xmin0, xmax0 = norm.ppf([.001, 1-.001], loc=mu0, scale=sigma0)\n",
    "xmin = np.min([xmin, xmin0])\n",
    "xmax = np.max([xmax, xmax0])\n",
    "\n",
    "s0 = np.linspace(xmin, xmax, 200)\n",
    "Fhat = np.zeros(len(s0))\n",
    "for i in np.arange(len(s0)):\n",
    "    Fhat[i] = np.mean(x <= s0[i])\n",
    "    \n",
    "for alpha in np.flip([.5, 5, 10, 50, 100]):\n",
    "    \n",
    "    for samples in np.arange(10):\n",
    "        s, w = sample_dirichlet_process_posterior(x, alpha=alpha, mu=mu0, sigma=sigma0)\n",
    "        \n",
    "        clear_output(wait=True)\n",
    "        plt.figure(figsize=(10,6))\n",
    "        plt.step(s, np.cumsum(w), label='sample from posterior', color='red')\n",
    "        plt.step(s0, Fhat, color='gray', label='empirical distribution of data')\n",
    "        plt.fill_between(s0, np.maximum(Fhat - eps, 0), np.minimum(Fhat + eps, 1), \n",
    "                         step=\"pre\", alpha=0.4, label='frequentist confidence')\n",
    "        plt.title(r'Sample from posterior $\\alpha=$%.2f' % alpha)\n",
    "        plt.legend()\n",
    "        plt.show()\n",
    "        sleep(.5)"
   ]
  },
  {
   "cell_type": "markdown",
   "metadata": {},
   "source": [
    "Again, notice a few things as you watch the \"movies\":\n",
    "\n",
    "* As $\\alpha$ decreases, the sampled distribution becomes more and more \n",
    "like the empirical distribution of the data. Can you understand why? How does $\\alpha$ control the \"strength\" of the prior distribution?\n",
    "\n",
    "* The sampled distribution $F$ is again always a step function. This is because \n",
    "of conjugacy--the posterior is another Dirichlet process.\n",
    "\n",
    "* For fixed $\\alpha$, notice that the draws $F_i$ are centered around a \n",
    "distribution that is different from the true distribution of the data, especially for large $\\alpha$. If we\n",
    "were to average many frames of the movie and compute\n",
    "$\\hat F(x) = \\frac{1}{M} \\sum_{i=1}^M F_i(x)$, it would line up very closely with \n",
    "the posterior mean. Can you say what this posterior mean is?\n",
    "\n",
    "* Can you see that the uncertainty (variance) in the Bayesian posterior is very different from the uncertainty in the true distribution using a frequentist confidence interval around the empirical distribution?\n",
    "\n"
   ]
  }
 ],
 "metadata": {
  "kernelspec": {
   "display_name": "Python 3",
   "language": "python",
   "name": "python3"
  },
  "language_info": {
   "codemirror_mode": {
    "name": "ipython",
    "version": 3
   },
   "file_extension": ".py",
   "mimetype": "text/x-python",
   "name": "python",
   "nbconvert_exporter": "python",
   "pygments_lexer": "ipython3",
   "version": "3.8.5"
  }
 },
 "nbformat": 4,
 "nbformat_minor": 4
}
