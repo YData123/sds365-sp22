{
 "cells": [
  {
   "cell_type": "markdown",
   "metadata": {},
   "source": [
    "## GPT-3 code generation\n",
    "\n",
    "In this notebook we illustrate the interface to OpenAI's API. To run this for yourself, you need to register and obtain an [API key](https://beta.openai.com/account/api-keys). \n",
    "You can then try out a range of [different models](https://beta.openai.com/docs/engines/gpt-3):\n",
    "\n",
    "<img src=\"https://raw.githubusercontent.com/YData123/sds365-sp22/main/demos/gpt-3/codex.png\" style=\"width:600px\">\n"
   ]
  },
  {
   "cell_type": "code",
   "execution_count": 45,
   "metadata": {},
   "outputs": [],
   "source": [
    "import os\n",
    "#!pip install openai\n",
    "import openai\n",
    "openai.api_key = os.getenv(\"OPENAI_API_KEY\")"
   ]
  },
  {
   "cell_type": "code",
   "execution_count": 46,
   "metadata": {},
   "outputs": [],
   "source": [
    "def generate_code(prompt, temp=0.1):\n",
    "    prompt = \"# Python 3\\n# \" + prompt + \"\\n\"\n",
    "    response = openai.Completion.create(\n",
    "      engine=\"code-davinci-002\",\n",
    "      prompt=prompt,\n",
    "      temperature=0,\n",
    "      max_tokens=256,\n",
    "      top_p=1,\n",
    "      frequency_penalty=0,\n",
    "      presence_penalty=0\n",
    "    )\n",
    "    return response.choices[0].text\n",
    "\n"
   ]
  },
  {
   "cell_type": "code",
   "execution_count": 48,
   "metadata": {},
   "outputs": [
    {
     "name": "stdout",
     "output_type": "stream",
     "text": [
      "#\n",
      "# mikael.mieskolainen@cern.ch, 2019\n",
      "\n",
      "import numpy as np\n",
      "import matplotlib.pyplot as plt\n",
      "\n",
      "# Input matrix\n",
      "A = np.array([[1,2,3], [4,5,6], [7,8,9]])\n",
      "\n",
      "# Compute the covariance matrix\n",
      "C = np.cov(A)\n",
      "\n",
      "# Compute the eigenvalues and eigenvectors\n",
      "eigvals, eigvecs = np.linalg.eig(C)\n",
      "\n",
      "# Sort the eigenvalues and eigenvectors\n",
      "idx = eigvals.argsort()[::-1]\n",
      "eigvals = eigvals[idx]\n",
      "eigvecs = eigvecs[:,idx]\n",
      "\n",
      "# Print the results\n",
      "print(\"Eigenvalues:\")\n",
      "print(eigvals)\n",
      "print(\"Eigenvectors:\")\n",
      "print(eigvecs)\n",
      "\n",
      "# Plot the eigenvectors\n",
      "plt.plot(eigvecs[:,0], eigvecs[:,1], 'ro')\n",
      "pl\n"
     ]
    }
   ],
   "source": [
    "response = generate_code(\"Compute the principal components of a matrix\", temp=0.5)\n",
    "print(response)"
   ]
  }
 ],
 "metadata": {
  "kernelspec": {
   "display_name": "Python 3",
   "language": "python",
   "name": "python3"
  },
  "language_info": {
   "codemirror_mode": {
    "name": "ipython",
    "version": 3
   },
   "file_extension": ".py",
   "mimetype": "text/x-python",
   "name": "python",
   "nbconvert_exporter": "python",
   "pygments_lexer": "ipython3",
   "version": "3.8.5"
  }
 },
 "nbformat": 4,
 "nbformat_minor": 4
}
