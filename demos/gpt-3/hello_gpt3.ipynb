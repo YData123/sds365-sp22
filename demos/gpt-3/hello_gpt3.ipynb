{
 "cells": [
  {
   "cell_type": "markdown",
   "metadata": {},
   "source": [
    "## Large language models: GPT-3\n",
    "\n",
    "In this notebook we illustrate the interface to OpenAI's API. To run this for yourself, you need to register and obtain an [API key](https://beta.openai.com/account/api-keys). \n",
    "You can then try out a range of [different models](https://beta.openai.com/docs/engines/gpt-3):\n",
    "\n",
    "<img src=\"https://raw.githubusercontent.com/YData123/sds365-sp22/main/demos/gpt-3/overview1.png\" style=\"width:600px\">\n"
   ]
  },
  {
   "cell_type": "code",
   "execution_count": 1,
   "metadata": {},
   "outputs": [],
   "source": [
    "import os\n",
    "!pip install openai\n",
    "import openai\n",
    "openai.api_key = os.getenv(\"OPENAI_API_KEY\")"
   ]
  },
  {
   "cell_type": "code",
   "execution_count": 2,
   "metadata": {},
   "outputs": [],
   "source": [
    "def gpt3(prompt, engine=\"text-davinci-002\", temp=0.1):\n",
    "    response = openai.Completion.create(\n",
    "        engine=engine,\n",
    "        prompt=prompt,\n",
    "        temperature=temp,\n",
    "        max_tokens=1000,\n",
    "        top_p=1,\n",
    "        frequency_penalty=0,\n",
    "        presence_penalty=0\n",
    "    )\n",
    "    content = response.choices[0].text.split('.')\n",
    "    return response.choices[0].text"
   ]
  },
  {
   "cell_type": "code",
   "execution_count": 3,
   "metadata": {
    "scrolled": true
   },
   "outputs": [
    {
     "name": "stdout",
     "output_type": "stream",
     "text": [
      "\n",
      "\n",
      "This is a fact that is indisputable. The students who attend Yale come from the top of their class and are among the most talented and intelligent young people in the world. The faculty at Yale is world-renowned, and the resources available to students are unmatched. Yale graduates go on to do great things in the world, and the education they receive at Yale is a big part of that.\n"
     ]
    }
   ],
   "source": [
    "response = gpt3(\"Yale students are among the best in the world.\", temp=.9)\n",
    "print(response)"
   ]
  },
  {
   "cell_type": "code",
   "execution_count": 4,
   "metadata": {},
   "outputs": [
    {
     "name": "stdout",
     "output_type": "stream",
     "text": [
      "\n",
      "\n",
      "According to a report from the National Center for Education Statistics, the percentage of students at Yale who earning a presenting minor in theatrical, performing, or television Arts strollsrietly1 percent in 2019. However, this does not mean that the Univ. of Yale students are not good at theater and television arts. A report from 2019 found that out of 802 students at Yale whoenses different college, out of these, 78% had earned a minor in theaters and television arts. This means that the number of students at Yale who earn a arts degreeillion is high in terms of percentage of students who achieve this goal.\n"
     ]
    }
   ],
   "source": [
    "response = gpt3(\"Yale students are among the best in the world.\", temp=.9, engine=\"text-ada-001\")\n",
    "print(response)"
   ]
  }
 ],
 "metadata": {
  "kernelspec": {
   "display_name": "Python 3",
   "language": "python",
   "name": "python3"
  },
  "language_info": {
   "codemirror_mode": {
    "name": "ipython",
    "version": 3
   },
   "file_extension": ".py",
   "mimetype": "text/x-python",
   "name": "python",
   "nbconvert_exporter": "python",
   "pygments_lexer": "ipython3",
   "version": "3.8.5"
  }
 },
 "nbformat": 4,
 "nbformat_minor": 4
}
